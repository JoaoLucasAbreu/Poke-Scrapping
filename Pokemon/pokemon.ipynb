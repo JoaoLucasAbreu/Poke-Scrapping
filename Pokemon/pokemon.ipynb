{
 "cells": [
  {
   "cell_type": "code",
   "execution_count": 1,
   "metadata": {},
   "outputs": [],
   "source": [
    "import json\n",
    "import time\n",
    "import requests\n",
    "import pandas as pd\n",
    "\n",
    "\n",
    "nome = []\n",
    "\n",
    "\n",
    "for i in range(1, 5):\n",
    "    api = f'https://pokeapi.co/api/v2/pokemon/{i}'\n",
    "    res = requests.get(api)\n",
    "    poke = res.json()\n",
    "    #nome.append(poke['name'])\n",
    "    nome.append(poke['name'])\n",
    "    time.sleep(2)\n",
    "    #print(poke['name'])\n",
    "\n",
    "lista_de_pokemons = json.dumps(nome)\n",
    "\n",
    "with open('salvar.json', 'w') as s:\n",
    "    s.write(lista_de_pokemons)\n",
    "\n"
   ]
  },
  {
   "cell_type": "code",
   "execution_count": 14,
   "metadata": {},
   "outputs": [
    {
     "data": {
      "text/plain": [
       "'snorlax'"
      ]
     },
     "execution_count": 14,
     "metadata": {},
     "output_type": "execute_result"
    }
   ],
   "source": [
    "json['name']"
   ]
  }
 ],
 "metadata": {
  "kernelspec": {
   "display_name": "Python 3.10.5 64-bit",
   "language": "python",
   "name": "python3"
  },
  "language_info": {
   "codemirror_mode": {
    "name": "ipython",
    "version": 3
   },
   "file_extension": ".py",
   "mimetype": "text/x-python",
   "name": "python",
   "nbconvert_exporter": "python",
   "pygments_lexer": "ipython3",
   "version": "3.10.5"
  },
  "orig_nbformat": 4,
  "vscode": {
   "interpreter": {
    "hash": "884b44ceef68af4b463ae7eb0f5b236f4cf5bfd4422862bb623a61d30bdb4b6c"
   }
  }
 },
 "nbformat": 4,
 "nbformat_minor": 2
}
