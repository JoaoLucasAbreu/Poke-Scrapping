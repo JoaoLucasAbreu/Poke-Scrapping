{
 "cells": [
  {
   "cell_type": "code",
   "execution_count": 7,
   "metadata": {},
   "outputs": [
    {
     "name": "stdout",
     "output_type": "stream",
     "text": [
      "chesto\n",
      "water\n",
      "<pokebase.interface.APIMetadata object at 0x00000207F3A63220>\n"
     ]
    }
   ],
   "source": [
    "import pokebase as pb\n",
    "chesto = pb.APIResource('berry', 'chesto')\n",
    "print(chesto.name)\n",
    "\n",
    "print(chesto.natural_gift_type.name)\n",
    "\n",
    "charmander = pb.pokemon('charmander')  # Quick lookup.\n",
    "print(charmander.abilities[0])"
   ]
  }
 ],
 "metadata": {
  "kernelspec": {
   "display_name": "Python 3.10.5 64-bit",
   "language": "python",
   "name": "python3"
  },
  "language_info": {
   "codemirror_mode": {
    "name": "ipython",
    "version": 3
   },
   "file_extension": ".py",
   "mimetype": "text/x-python",
   "name": "python",
   "nbconvert_exporter": "python",
   "pygments_lexer": "ipython3",
   "version": "3.10.5"
  },
  "orig_nbformat": 4,
  "vscode": {
   "interpreter": {
    "hash": "884b44ceef68af4b463ae7eb0f5b236f4cf5bfd4422862bb623a61d30bdb4b6c"
   }
  }
 },
 "nbformat": 4,
 "nbformat_minor": 2
}
